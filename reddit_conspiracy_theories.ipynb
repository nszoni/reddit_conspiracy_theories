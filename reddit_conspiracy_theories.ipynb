{
 "cells": [
  {
   "cell_type": "code",
   "execution_count": 1,
   "id": "170ce57f",
   "metadata": {},
   "outputs": [
    {
     "ename": "ModuleNotFoundError",
     "evalue": "No module named 'nltk'",
     "output_type": "error",
     "traceback": [
      "\u001b[0;31m---------------------------------------------------------------------------\u001b[0m",
      "\u001b[0;31mModuleNotFoundError\u001b[0m                       Traceback (most recent call last)",
      "\u001b[0;32m/var/folders/rn/pb4lfv4d48x2_hps66yh6qk80000gn/T/ipykernel_43665/3371805668.py\u001b[0m in \u001b[0;36m<module>\u001b[0;34m\u001b[0m\n\u001b[1;32m      3\u001b[0m \u001b[0;32mimport\u001b[0m \u001b[0mre\u001b[0m\u001b[0;34m\u001b[0m\u001b[0;34m\u001b[0m\u001b[0m\n\u001b[1;32m      4\u001b[0m \u001b[0;32mimport\u001b[0m \u001b[0mstring\u001b[0m\u001b[0;34m\u001b[0m\u001b[0;34m\u001b[0m\u001b[0m\n\u001b[0;32m----> 5\u001b[0;31m \u001b[0;32mfrom\u001b[0m \u001b[0mnltk\u001b[0m \u001b[0;32mimport\u001b[0m \u001b[0mnltk\u001b[0m\u001b[0;34m\u001b[0m\u001b[0;34m\u001b[0m\u001b[0m\n\u001b[0m\u001b[1;32m      6\u001b[0m \u001b[0;32mimport\u001b[0m \u001b[0mmatplotlib\u001b[0m\u001b[0;34m.\u001b[0m\u001b[0mpyplot\u001b[0m \u001b[0;32mas\u001b[0m \u001b[0mplt\u001b[0m\u001b[0;34m\u001b[0m\u001b[0;34m\u001b[0m\u001b[0m\n\u001b[1;32m      7\u001b[0m \u001b[0;32mimport\u001b[0m \u001b[0mseaborn\u001b[0m \u001b[0;32mas\u001b[0m \u001b[0msns\u001b[0m\u001b[0;34m\u001b[0m\u001b[0;34m\u001b[0m\u001b[0m\n",
      "\u001b[0;31mModuleNotFoundError\u001b[0m: No module named 'nltk'"
     ]
    }
   ],
   "source": [
    "import numpy as np # linear algebra\n",
    "import pandas as pd # data processing, CSV file I/O (e.g. pd.read_csv)\n",
    "import re\n",
    "import string\n",
    "import nltk\n",
    "import matplotlib.pyplot as plt\n",
    "import seaborn as sns\n",
    "from sklearn.feature_extraction.text import CountVectorizer,TfidfVectorizer\n",
    "nltk.download('vader_lexicon')\n",
    "from wordcloud import WordCloud,STOPWORDS\n",
    "from nltk.util import ngrams\n",
    "from nltk import word_tokenize\n",
    "from nltk.stem import PorterStemmer\n",
    "from nltk.stem import WordNetLemmatizer\n",
    "import spacy as sp\n",
    "nlps = sp.load('en')"
   ]
  },
  {
   "cell_type": "markdown",
   "id": "266e4d13",
   "metadata": {},
   "source": [
    "## Import data"
   ]
  },
  {
   "cell_type": "code",
   "execution_count": 2,
   "id": "1e9ffb2c",
   "metadata": {},
   "outputs": [
    {
     "data": {
      "text/html": [
       "<div>\n",
       "<style scoped>\n",
       "    .dataframe tbody tr th:only-of-type {\n",
       "        vertical-align: middle;\n",
       "    }\n",
       "\n",
       "    .dataframe tbody tr th {\n",
       "        vertical-align: top;\n",
       "    }\n",
       "\n",
       "    .dataframe thead th {\n",
       "        text-align: right;\n",
       "    }\n",
       "</style>\n",
       "<table border=\"1\" class=\"dataframe\">\n",
       "  <thead>\n",
       "    <tr style=\"text-align: right;\">\n",
       "      <th></th>\n",
       "      <th>title</th>\n",
       "      <th>score</th>\n",
       "      <th>id</th>\n",
       "      <th>url</th>\n",
       "      <th>comms_num</th>\n",
       "      <th>created</th>\n",
       "      <th>body</th>\n",
       "      <th>timestamp</th>\n",
       "    </tr>\n",
       "  </thead>\n",
       "  <tbody>\n",
       "    <tr>\n",
       "      <th>0</th>\n",
       "      <td>What Shape is The Earth? PYRAMID!</td>\n",
       "      <td>1</td>\n",
       "      <td>b94br6</td>\n",
       "      <td>https://www.youtube.com/watch?v=DmMl7xwqTWA</td>\n",
       "      <td>0</td>\n",
       "      <td>1.554329e+09</td>\n",
       "      <td>NaN</td>\n",
       "      <td>2019-04-04 00:58:13</td>\n",
       "    </tr>\n",
       "    <tr>\n",
       "      <th>1</th>\n",
       "      <td>Bitcoin &amp; XRP Conspiracy, CIA &amp; New World Orde...</td>\n",
       "      <td>1</td>\n",
       "      <td>a6ly3q</td>\n",
       "      <td>https://www.youtube.com/attribution_link?a=YdV...</td>\n",
       "      <td>0</td>\n",
       "      <td>1.544932e+09</td>\n",
       "      <td>NaN</td>\n",
       "      <td>2018-12-16 05:47:19</td>\n",
       "    </tr>\n",
       "    <tr>\n",
       "      <th>2</th>\n",
       "      <td>Is this a thing yet?</td>\n",
       "      <td>2</td>\n",
       "      <td>bbrgsd</td>\n",
       "      <td>https://www.reddit.com/r/ConspiracyTheory/comm...</td>\n",
       "      <td>0</td>\n",
       "      <td>1.554931e+09</td>\n",
       "      <td>[https://sputniknews.com/science/2019041010740...</td>\n",
       "      <td>2019-04-11 00:13:57</td>\n",
       "    </tr>\n",
       "    <tr>\n",
       "      <th>3</th>\n",
       "      <td>Comment</td>\n",
       "      <td>1</td>\n",
       "      <td>du4rdjb</td>\n",
       "      <td>NaN</td>\n",
       "      <td>0</td>\n",
       "      <td>1.518452e+09</td>\n",
       "      <td>In a Swedish city, the same pattern: \\n\"Truth ...</td>\n",
       "      <td>2018-02-12 18:06:02</td>\n",
       "    </tr>\n",
       "    <tr>\n",
       "      <th>4</th>\n",
       "      <td>Jimmy Fallon might be in the closet gay, or Bi...</td>\n",
       "      <td>13</td>\n",
       "      <td>f2r2s5</td>\n",
       "      <td>https://www.reddit.com/r/ConspiracyTheory/comm...</td>\n",
       "      <td>21</td>\n",
       "      <td>1.581513e+09</td>\n",
       "      <td>Recently me and some of my friends have been n...</td>\n",
       "      <td>2020-02-12 15:17:50</td>\n",
       "    </tr>\n",
       "  </tbody>\n",
       "</table>\n",
       "</div>"
      ],
      "text/plain": [
       "                                               title  score       id  \\\n",
       "0                  What Shape is The Earth? PYRAMID!      1   b94br6   \n",
       "1  Bitcoin & XRP Conspiracy, CIA & New World Orde...      1   a6ly3q   \n",
       "2                               Is this a thing yet?      2   bbrgsd   \n",
       "3                                            Comment      1  du4rdjb   \n",
       "4  Jimmy Fallon might be in the closet gay, or Bi...     13   f2r2s5   \n",
       "\n",
       "                                                 url  comms_num       created  \\\n",
       "0        https://www.youtube.com/watch?v=DmMl7xwqTWA          0  1.554329e+09   \n",
       "1  https://www.youtube.com/attribution_link?a=YdV...          0  1.544932e+09   \n",
       "2  https://www.reddit.com/r/ConspiracyTheory/comm...          0  1.554931e+09   \n",
       "3                                                NaN          0  1.518452e+09   \n",
       "4  https://www.reddit.com/r/ConspiracyTheory/comm...         21  1.581513e+09   \n",
       "\n",
       "                                                body            timestamp  \n",
       "0                                                NaN  2019-04-04 00:58:13  \n",
       "1                                                NaN  2018-12-16 05:47:19  \n",
       "2  [https://sputniknews.com/science/2019041010740...  2019-04-11 00:13:57  \n",
       "3  In a Swedish city, the same pattern: \\n\"Truth ...  2018-02-12 18:06:02  \n",
       "4  Recently me and some of my friends have been n...  2020-02-12 15:17:50  "
      ]
     },
     "execution_count": 2,
     "metadata": {},
     "output_type": "execute_result"
    }
   ],
   "source": [
    "rc = pd.read_csv('./data/reddit_ct.csv')\n",
    "rc.head()"
   ]
  },
  {
   "cell_type": "markdown",
   "id": "854b6846",
   "metadata": {},
   "source": [
    "## Text Processing"
   ]
  },
  {
   "cell_type": "code",
   "execution_count": null,
   "id": "a01e2340",
   "metadata": {},
   "outputs": [],
   "source": [
    "title_data = r_data[['title','timestamp']].copy()\n",
    "body_data = r_data[['body','timestamp']].copy()\n",
    "body_data = body_data.dropna()\n",
    "title_data = title_data.dropna()\n",
    "\n",
    "\n",
    "title_data.title =title_data.title.str.lower()\n",
    "body_data.body =body_data.body.str.lower()\n",
    "\n",
    "#Remove handlers\n",
    "title_data.title = title_data.title.apply(lambda x:re.sub('@[^\\s]+','',x))\n",
    "body_data.body   = body_data.body.apply(lambda x:re.sub('@[^\\s]+','',x))\n",
    "\n",
    "# Remove URLS\n",
    "title_data.title = title_data.title.apply(lambda x:re.sub(r\"http\\S+\", \"\", x))\n",
    "body_data.body   = body_data.body.apply(lambda x:re.sub(r\"http\\S+\", \"\", x))\n",
    "\n",
    "# Remove all the special characters\n",
    "title_data.title = title_data.title.apply(lambda x:' '.join(re.findall(r'\\w+', x)))\n",
    "body_data.body   = body_data.body.apply(lambda x:' '.join(re.findall(r'\\w+', x)))\n",
    "\n",
    "#remove all single characters\n",
    "title_data.title = title_data.title.apply(lambda x:re.sub(r'\\s+[a-zA-Z]\\s+', '', x))\n",
    "body_data.body   = body_data.body.apply(lambda x:re.sub(r'\\s+[a-zA-Z]\\s+', '', x))\n",
    "\n",
    "# Substituting multiple spaces with single space\n",
    "title_data.title = title_data.title.apply(lambda x:re.sub(r'\\s+', ' ', x, flags=re.I))\n",
    "body_data.body   = body_data.body.apply(lambda x:re.sub(r'\\s+', ' ', x, flags=re.I))\n",
    "\n",
    "\n",
    "\n",
    "#Remove Time From Timestamp\n",
    "title_data.timestamp = pd.to_datetime(title_data.timestamp).dt.date\n",
    "body_data.timestamp = pd.to_datetime(body_data.timestamp).dt.date"
   ]
  },
  {
   "cell_type": "markdown",
   "id": "285d8b5b",
   "metadata": {},
   "source": [
    "## Feature Engineering"
   ]
  },
  {
   "cell_type": "markdown",
   "id": "168db1b8",
   "metadata": {},
   "source": [
    "## Sentiment Analysis"
   ]
  },
  {
   "cell_type": "markdown",
   "id": "fc93b7a8",
   "metadata": {},
   "source": [
    "## Topic Modelling"
   ]
  },
  {
   "cell_type": "code",
   "execution_count": null,
   "id": "9273f7fd",
   "metadata": {},
   "outputs": [],
   "source": []
  }
 ],
 "metadata": {
  "kernelspec": {
   "display_name": "Python 3 (ipykernel)",
   "language": "python",
   "name": "python3"
  },
  "language_info": {
   "codemirror_mode": {
    "name": "ipython",
    "version": 3
   },
   "file_extension": ".py",
   "mimetype": "text/x-python",
   "name": "python",
   "nbconvert_exporter": "python",
   "pygments_lexer": "ipython3",
   "version": "3.9.10"
  }
 },
 "nbformat": 4,
 "nbformat_minor": 5
}
